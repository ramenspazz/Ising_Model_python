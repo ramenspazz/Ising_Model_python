{
 "cells": [
  {
   "cell_type": "code",
   "execution_count": 10,
   "metadata": {},
   "outputs": [
    {
     "name": "stdout",
     "output_type": "stream",
     "text": [
      "\n",
      "        Module directory already in system path: /home/kirisame_ramen/Programs/Ising_Model_python/src \n",
      "\n",
      "        "
     ]
    }
   ],
   "source": [
    "\"\"\"\n",
    "This file is the entry point for the project\n",
    "\"\"\"\n",
    "# Begin by importing external libraries using path_setup\n",
    "# NOTE : Must be ran first, thus PEP8-E402\n",
    "import path_setup\n",
    "path_setup.path_setup()\n",
    "import math  # noqa E402\n",
    "import sys  # noqa E402\n",
    "import numpy as np # noqa E402\n",
    "import datetime as dt # noqa E402\n",
    "from LatticeClass_F import lattice_class as lt # noqa E402\n",
    "from random import random  # noqa E402\n",
    "# Shebang line for interactive output in vs_code, comment this out if you have troubles running the notebook\n",
    "%matplotlib widget\n",
    "\n",
    "def rand_time() -> int:\n",
    "    out = int(dt.datetime.now().strftime('%s'))\n",
    "    sys.stdout.write(f\"Time Seed = {out}\\n\")\n",
    "    return(int(dt.datetime.now().strftime('%s')))"
   ]
  },
  {
   "cell_type": "markdown",
   "metadata": {},
   "source": [
    "# Setup\n",
    "This is the setup for the simulation.\n",
    "\n",
    "# Parameters\n",
    "## N, M\n",
    "> The span of the basis vectors\n",
    "\n",
    "## $\\beta J$'s\n",
    "> The temperature\n",
    "\n",
    "# Options 0 and 1\n",
    "> 0 for seeded random or 1 for time based\n",
    "## Seeded random : 0\n",
    "> seeds random with 1644121893 by default to generate a repeatable test.\n",
    "\n",
    "```Probs``` is a list containing 2 -- or 3 integers if voids is enabled, from 0 to 100 such that they all add together to 100.\n",
    "Each entry in the ```Probs``` list represents the percent chance that random will assign a spin value of 1, -1, or\n",
    "0 if lattice voids are enabled. You can play with these for interesting results. \n",
    "## Time based : 1\n",
    "> seeds radom with the current epoch time as an integer.\n",
    "\n",
    "# TODO\n",
    "It shouldnt be hard to include external magnetic field interactions.\n",
    "\n",
    "I want to make the $\\beta J$ value distance dependant, but need to do more research to impliment this right now."
   ]
  },
  {
   "cell_type": "code",
   "execution_count": 11,
   "metadata": {},
   "outputs": [
    {
     "name": "stdout",
     "output_type": "stream",
     "text": [
      "option 0 chosen..\n",
      "\n"
     ]
    }
   ],
   "source": [
    "# 32x32 runs in about 40-70 seconds depending on your system.\n",
    "N = 48\n",
    "M = 48\n",
    "size = [N, M]\n",
    "a = 0.1\n",
    "b = 10\n",
    "# The num_ponts settings increases computation time \n",
    "# dramatically, turn this down if you are just looking\n",
    "# for good parameters to test. Turn up on a full data run.\n",
    "# I suggest num_points < 100 for tests, and >= 1000 for full \n",
    "# data runs.\n",
    "num_points = 100\n",
    "step = (b-a)/num_points\n",
    "BJs = np.arange(a, b, step)\n",
    "total_time = math.trunc(np.sqrt(N*M))\n",
    "BJ = 0.1\n",
    "\n",
    "lt_a = lt(1, size)\n",
    "lt_b = lt(1, size, [[1, 0], [0.5, np.sqrt(3)/2]])\n",
    "lt_c = lt(1, size, [[0.5, np.sqrt(3)/2], [0.5, -np.sqrt(3)/2]])\n",
    "\n",
    "output = input('Enter 0 for seeded random or 1 for time based:')\n",
    "if output == '0':\n",
    "    print(\"option 0 chosen..\\n\")\n",
    "    # DOCtest seed = 1644121893\n",
    "    seed = 1644121893\n",
    "    lt_a.randomize(voids=True, probs=[15, 80, 5],\n",
    "                   rand_seed=seed)\n",
    "    lt_b.randomize(voids=True, probs=[49, 49, 2],\n",
    "                   rand_seed=seed)\n",
    "    lt_c.randomize(voids=True, probs=[80, 15, 5],\n",
    "                   rand_seed=seed)\n",
    "else:\n",
    "    print(\"option 1 chosen.\\n\")\n",
    "\n",
    "    lt_a.randomize(voids=True, probs=[\n",
    "        random(), random()],\n",
    "        rand_seed=rand_time())\n",
    "\n",
    "    lt_b.randomize(voids=False, probs=[\n",
    "        random(), random()],\n",
    "        rand_seed=rand_time())\n",
    "\n",
    "    lt_c.randomize(voids=False, probs=[\n",
    "        random(), random()],\n",
    "        rand_seed=rand_time())"
   ]
  },
  {
   "cell_type": "markdown",
   "metadata": {},
   "source": [
    "# Display\n",
    "Calling <lattice_object>.display() will display the current spin arangement of the lattice_object."
   ]
  },
  {
   "cell_type": "code",
   "execution_count": 12,
   "metadata": {},
   "outputs": [
    {
     "data": {
      "application/vnd.jupyter.widget-view+json": {
       "model_id": "36434b8ab70b429fabf3d36db1957060",
       "version_major": 2,
       "version_minor": 0
      },
      "text/plain": [
       "Canvas(toolbar=Toolbar(toolitems=[('Home', 'Reset original view', 'home', 'home'), ('Back', 'Back to previous …"
      ]
     },
     "metadata": {},
     "output_type": "display_data"
    }
   ],
   "source": [
    "lt_a.display()"
   ]
  },
  {
   "cell_type": "code",
   "execution_count": 13,
   "metadata": {},
   "outputs": [
    {
     "data": {
      "application/vnd.jupyter.widget-view+json": {
       "model_id": "275591948f1449f1b8a36bdcee392430",
       "version_major": 2,
       "version_minor": 0
      },
      "text/plain": [
       "Canvas(toolbar=Toolbar(toolitems=[('Home', 'Reset original view', 'home', 'home'), ('Back', 'Back to previous …"
      ]
     },
     "metadata": {},
     "output_type": "display_data"
    }
   ],
   "source": [
    "lt_b.display()"
   ]
  },
  {
   "cell_type": "code",
   "execution_count": 14,
   "metadata": {},
   "outputs": [
    {
     "data": {
      "application/vnd.jupyter.widget-view+json": {
       "model_id": "329a14cd968c4aaeb24b048016985d3c",
       "version_major": 2,
       "version_minor": 0
      },
      "text/plain": [
       "Canvas(toolbar=Toolbar(toolitems=[('Home', 'Reset original view', 'home', 'home'), ('Back', 'Back to previous …"
      ]
     },
     "metadata": {},
     "output_type": "display_data"
    }
   ],
   "source": [
    "lt_c.display()"
   ]
  },
  {
   "cell_type": "markdown",
   "metadata": {},
   "source": [
    "# Metropolis Algorithm test\n",
    "Uncomment if you want to test these. The metropolis algorithm gets ran anyways in the next section."
   ]
  },
  {
   "cell_type": "code",
   "execution_count": 15,
   "metadata": {},
   "outputs": [],
   "source": [
    "# Uncomment the next 4 lines below if you want, but not\n",
    "# really a reason to as the metropolis algorithm gets\n",
    "# called anyways from the get_spin_energy function.\n",
    "# lt_a.metropolis(total_time, BJ, progress=True,\n",
    "#                 save=False, auto_plot=True);\n",
    "# lt_b.metropolis(total_time, BJ, progress=True,\n",
    "#                 save=False, auto_plot=True);\n",
    "# lt_c.metropolis(total_time, BJ, progress=True,\n",
    "#                 save=False, auto_plot=True);"
   ]
  },
  {
   "cell_type": "markdown",
   "metadata": {},
   "source": [
    "# Plotting Energy-Temperature relations\n",
    "Can look at $\\bar{m}$ as a function of temperature:\n",
    "$$ T = 1/\\beta k = J/(\\beta J)k $$\n",
    "\n",
    "We can also plot heat capacity as a function of time, using:\n",
    "\n",
    "$$C_V = \\sigma_E^2 / T^2 $$\n",
    "\n",
    "$$= (\\left<E^2\\right>-\\left<E\\right>^2) \\cdot \\beta^{2} k^2$$\n",
    "\n",
    "$$= \\left(\\left<\\left(\\frac{E}{J}\\right)^2\\right>-\\left<\\frac{E}{J}\\right>^2 \\right) \\cdot (\\beta J)^{2} k^2 $$\n",
    "\n",
    "$$= \\sigma_{E/J}^2 \\cdot (\\beta J)^{2} k^2$$\n",
    "\n",
    "## Whats going on\n",
    "The get_spin_genery function runs the Metropolis algorithm and finds a viable equlibrium temperature for a given $\\beta J$ value, plotting 38\n",
    " runs of the metropolis algorithm chained together.\n",
    "\n",
    "Then, we use the above relations to first plot $\\hat{m}$ vs $\\left(\\frac{k}{J}\\right)T$ -- where $\\hat{m}$ the Sum of Spins over the number of spins.\n",
    "\n",
    "Again using the above relations we can also plot $C_V / k^2$ vs $\\left(\\frac{k}{J}\\right)T$.\n"
   ]
  },
  {
   "cell_type": "code",
   "execution_count": 16,
   "metadata": {},
   "outputs": [
    {
     "name": "stdout",
     "output_type": "stream",
     "text": [
      "get_spin_energy is 100% complete in 5.08659673 seconds!                                                                           \n"
     ]
    },
    {
     "data": {
      "application/vnd.jupyter.widget-view+json": {
       "model_id": "e3747a170610420686ad1759e3302549",
       "version_major": 2,
       "version_minor": 0
      },
      "text/plain": [
       "Canvas(toolbar=Toolbar(toolitems=[('Home', 'Reset original view', 'home', 'home'), ('Back', 'Back to previous …"
      ]
     },
     "metadata": {},
     "output_type": "display_data"
    }
   ],
   "source": [
    "a, b, c = lt_a.get_spin_energy(BJs, total_time, save=False,\n",
    "                               auto_plot=True)"
   ]
  },
  {
   "cell_type": "code",
   "execution_count": 17,
   "metadata": {},
   "outputs": [
    {
     "name": "stdout",
     "output_type": "stream",
     "text": [
      "get_spin_energy is 100% complete in 4.79167771 seconds!                                                                           \n"
     ]
    },
    {
     "data": {
      "application/vnd.jupyter.widget-view+json": {
       "model_id": "769af25d65164d448c273fb48866b132",
       "version_major": 2,
       "version_minor": 0
      },
      "text/plain": [
       "Canvas(toolbar=Toolbar(toolitems=[('Home', 'Reset original view', 'home', 'home'), ('Back', 'Back to previous …"
      ]
     },
     "metadata": {},
     "output_type": "display_data"
    }
   ],
   "source": [
    "a, b, c = lt_b.get_spin_energy(BJs, total_time, save=False,\n",
    "                               auto_plot=True)"
   ]
  },
  {
   "cell_type": "code",
   "execution_count": 18,
   "metadata": {},
   "outputs": [
    {
     "name": "stdout",
     "output_type": "stream",
     "text": [
      "get_spin_energy is 100% complete in 3.72083497 seconds!                                                                           \n"
     ]
    },
    {
     "data": {
      "application/vnd.jupyter.widget-view+json": {
       "model_id": "3d74cc9f117341d28749cb4fb43ea8ed",
       "version_major": 2,
       "version_minor": 0
      },
      "text/plain": [
       "Canvas(toolbar=Toolbar(toolitems=[('Home', 'Reset original view', 'home', 'home'), ('Back', 'Back to previous …"
      ]
     },
     "metadata": {},
     "output_type": "display_data"
    }
   ],
   "source": [
    "a, b, c = lt_c.get_spin_energy(BJs, total_time, save=False,\n",
    "                               auto_plot=True)"
   ]
  }
 ],
 "metadata": {
  "interpreter": {
   "hash": "9287fc382e1131375b4ba7a223504bb29f5d55b0cb80fdbe48163d784c009e6d"
  },
  "kernelspec": {
   "display_name": "Python 3.10.0 64-bit ('PY10': conda)",
   "name": "python3"
  },
  "language_info": {
   "codemirror_mode": {
    "name": "ipython",
    "version": 3
   },
   "file_extension": ".py",
   "mimetype": "text/x-python",
   "name": "python",
   "nbconvert_exporter": "python",
   "pygments_lexer": "ipython3",
   "version": "3.10.0"
  },
  "orig_nbformat": 4
 },
 "nbformat": 4,
 "nbformat_minor": 2
}
