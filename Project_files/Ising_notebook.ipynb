{
 "cells": [
  {
   "cell_type": "code",
   "execution_count": null,
   "metadata": {},
   "outputs": [],
   "source": [
    "\"\"\"\n",
    "This file is the entry point for the project\n",
    "\"\"\"\n",
    "# Begin by importing external libraries using path_setup\n",
    "# NOTE : Must be ran first, thus PEP8-E402\n",
    "import path_setup\n",
    "path_setup.path_setup()\n",
    "import math  # noqa E402\n",
    "import sys  # noqa E402\n",
    "import numpy as np # noqa E402\n",
    "import datetime as dt # noqa E402\n",
    "from LatticeDriver import LatticeDriver as lt  # noqs E402\n",
    "from LatticeDriver import T_to_Beta  # noqa E402\n",
    "import random as rnd  # noqa E402\n",
    "# Shebang line for interactive output in vs_code, comment this out if you have troubles running the notebook\n",
    "import plotly.io as pio\n",
    "pio.renderers.default = \"notebook\"\n",
    "\n",
    "zeroC = 273.15\n",
    "\n",
    "\n",
    "def rand_time() -> int:\n",
    "    out = int(dt.datetime.now().strftime('%s'))\n",
    "    sys.stdout.write(f\"Time Seed = {out}\\n\")\n",
    "    return(int(dt.datetime.now().strftime('%s')))\n",
    "\n",
    "def generate_random(gen_num: int) -> list:\n",
    "    \"\"\"\n",
    "        Generates 2 or 3 random numbers whos sum is 100\n",
    "    \"\"\"\n",
    "    if gen_num == 2:\n",
    "        rand_a = rnd.randint(0, 100)\n",
    "        rand_b = 100 - rand_a\n",
    "        return([rand_a, rand_b])\n",
    "    elif gen_num == 3:\n",
    "        rand_a = rnd.randint(0, 98)\n",
    "        if rand_a == 0:\n",
    "            rand_b = rnd.randint(0, 99)\n",
    "        else:\n",
    "            rand_b = rnd.randint(0, 100-rand_a-1)\n",
    "        rand_c = 100 - rand_a - rand_b\n",
    "        return([rand_a, rand_b, rand_c])"
   ]
  },
  {
   "cell_type": "markdown",
   "metadata": {},
   "source": [
    "# Plotting relations\n",
    "We can look at $\\bar{m}$ as a function of the temperature by using the thermodynamic relationship of $\\beta = \\frac{1}{k_B T}$. Next, we can expand the partition function as so:\n",
    "\n",
    "$$ Z = \\sum_{<i,j>} e^{-\\beta E_i} $$\n",
    "$$ E = -\\sum_{<i,j>} J_{<i,j>} \\sigma_i \\sigma_j,\\quad \\sigma_i \\sigma_j \\in \\mathbb{Z}$$\n",
    "$$ \\implies Z = a e^{-\\beta J},\\quad a\\in\\mathbb{R} $$\n",
    "\n",
    "From this we can see that the available microstates depend on the $\\beta J$ value, and are scaled with the specific spin arrangemet, where $\\beta J$ is a dimensionless quantity useful for numerical computation.\n",
    "\n",
    "## The Heat Capacity of the system\n",
    "\n",
    "Using the partition function, we can also plot the heat capacity:\n",
    "\n",
    "$$\\langle E \\rangle = -\\frac{\\partial ln(Z)}{\\partial \\beta}$$\n",
    "\n",
    "$$\\langle E^2 \\rangle = \\frac{\\partial^2 ln(Z)}{\\partial \\beta^2}$$\n",
    "\n",
    "With these two values and $\\beta = 1/k_bT$, we can write:\n",
    "\n",
    "$$C_V = \\frac{\\sigma_E^2}{k_b T^2} $$\n",
    "\n",
    "$$C_V= (\\left<E^2\\right>-\\left<E\\right>^2) \\cdot \\beta^2 k_b$$\n",
    "\n",
    "Multiply by the fancy form of one, $J^2/J^2$:\n",
    "\n",
    "$$C_V= \\left(\\left<\\left(\\frac{E}{J}\\right)^2\\right>-\\left<\\frac{E}{J}\\right>^2 \\right) \\cdot (\\beta J)^2 k_b $$\n",
    "\n",
    "$$\\therefore C_V= \\sigma_{E/J}^2 \\cdot (\\beta J)^{2} k_b$$\n",
    "\n",
    "From this result, we see that we only need to measure the energy at each evolution step in a MCMC simulation, take the numerical standard deviation, and record the $\\beta J$ value used in each simulation to plot the Heat Capacity as a function of a given $\\beta J$.\n",
    "\n",
    "## Magnitization density\n",
    "\n",
    "Then, we use the above relations to first plot $\\bar{m}$ vs $\\beta J$ -- where $\\bar{m}$ is the average of sum spins per evolution.\n",
    "\n",
    "# The Detailed Balance Equation\n",
    "The detailed balance equation (DBE) is a condition used to converge a MCMC simulation to a distribution -- and in this case the thermodynamic Boltzmann distribution. The DBE is a statement that the transition probabilty from one state $\\xi$ to some new state $\\xi'$ has an equal probability, and can be stated as such:\n",
    "\n",
    "$$P(\\xi\\rightarrow\\xi') = P(\\xi'\\rightarrow\\xi)$$\n",
    "\n",
    "The Boltzmann distribution is a distribution that gives a probability that a system will be in a state given the macroenergy of that states collective microstates, and is given by:\n",
    "\n",
    "$$p(\\xi)\\propto e^{-E_i\\beta}$$\n",
    "\n",
    "Using this as a cost function of out systems energy and the DBE, we can write:\n",
    "\n",
    "$$p(\\xi) = p(\\xi')$$\n",
    "$$\\implies e^{-E_i\\beta} = e^{-E_f\\beta}$$\n",
    "\n",
    "Taking the ratio of this, arrive at out cost function for a MCMC evolution to accept or reject a proposed change in the system:\n",
    "\n",
    "$$\\frac{p(\\xi)}{p(\\xi')} = e^{-\\beta(\\Delta E)}$$\n",
    "\n",
    "Therefore for a given choice of $\\beta J$, the only deciding factor for accepting or rejecting an evolution is the change in energy of the system from $\\xi$ to $\\xi'$. We can use the previously derived energy $-\\sum_{<i,j>} J_{<i,j>} \\sigma_i \\sigma_j$, which is the sum neighboring spins times the spin connecting all neighbors.\n",
    "\n",
    "Using this fact, we can compute the total energy of the system once, then only compute the sum of neighboring spins of a local microstate and multiply this by two times the sign of the proposed spin flip to get the change in energy from $\\xi$ to $\\xi'$. Using this fact and calling the resulting sum $\\Sigma_{nbr}$ and the flip of the initially chosen spin $S_f$, we get:\n",
    "\n",
    "$$\\implies \\frac{p(\\xi)}{p(\\xi')} = e^{-2S_f\\Sigma_{nbr}\\beta J}$$\n",
    "\n",
    "# The Metropolis Algorithm\n",
    "asdf\n",
    "\n",
    "# The Wolff Algorithm\n",
    "jkl;"
   ]
  },
  {
   "cell_type": "markdown",
   "metadata": {},
   "source": [
    "# Setup\n",
    "This is the setup for the simulation.\n",
    "\n",
    "# Parameters\n",
    "## N, M\n",
    "> The span of the basis vectors\n",
    "\n",
    "## $\\beta J$'s\n",
    "> The temperature\n",
    "\n",
    "# Options 0 and 1\n",
    "> 0 for seeded random or 1 for time based\n",
    "## Seeded random : 0\n",
    "> seeds random with 1644121893 by default to generate a repeatable test.\n",
    "\n",
    "```Probs``` is a list containing 2 -- or 3 integers if voids is enabled, from 0 to 100 such that they all add together to 100.\n",
    "Each entry in the ```Probs``` list represents the percent chance that random will assign a spin value of 1, -1, or\n",
    "0 if lattice voids are enabled. You can play with these for interesting results. \n",
    "## Time based : 1\n",
    "> seeds radom with the current epoch time as an integer.\n",
    "\n",
    "# TODO\n",
    "It shouldnt be hard to include external magnetic field interactions.\n",
    "\n",
    "I want to make the $\\beta J$ value distance dependant, but need to do more research to impliment this right now."
   ]
  },
  {
   "cell_type": "code",
   "execution_count": null,
   "metadata": {},
   "outputs": [],
   "source": [
    "N = 64\n",
    "M = 64\n",
    "size = [N, M]\n",
    "total_time = 1000 \n",
    "J = 42  # eV\n",
    "print(total_time)\n",
    "a = T_to_Beta(zeroC)\n",
    "b = T_to_Beta(1400+zeroC)\n",
    "print(f'a={a}eV, b={b}eV')\n",
    "num_points = 10\n",
    "step = (b-a)/num_points\n",
    "Beta = np.arange(a, b, step)\n",
    "\n",
    "lt_c4v_up = lt(1, size, J)\n",
    "lt_c3v_up = lt(1, size, J, basis=[[1, 0], [0.5, np.sqrt(3)/2]])\n",
    "lt_c6v_up = lt(1, size, J, [[0.5, np.sqrt(3)/2], [0.5, -np.sqrt(3)/2]])\n",
    "\n",
    "lt_c4v_dn = lt(1, size, J)\n",
    "lt_c3v_dn = lt(1, size, J, [[1, 0], [0.5, np.sqrt(3)/2]])\n",
    "lt_c6v_dn = lt(1, size, J, [[0.5, np.sqrt(3)/2], [0.5, -np.sqrt(3)/2]])\n",
    "\n",
    "output = input('Enter 0 for seeded random or 1 for time based:')\n",
    "if output == '0':\n",
    "    print(\"option 0 chosen..\\n\")\n",
    "    # DOCtest seed = 1644121893\n",
    "    seed = 1644121893\n",
    "    lt_c4v_up.randomize(voids=True, probs=[20, 75, 5],\n",
    "                        rand_seed=seed)\n",
    "    lt_c3v_up.randomize(voids=False, probs=[25, 75],\n",
    "                        rand_seed=seed)\n",
    "    lt_c6v_up.randomize(voids=True, probs=[20, 75, 5],\n",
    "                        rand_seed=seed)\n",
    "    lt_c4v_dn.randomize(voids=True, probs=[75, 20, 5],\n",
    "                        rand_seed=seed)\n",
    "    lt_c3v_dn.randomize(voids=False, probs=[75, 25],\n",
    "                        rand_seed=seed)\n",
    "    lt_c6v_dn.randomize(voids=True, probs=[75, 20, 5],\n",
    "                        rand_seed=seed)\n",
    "else:\n",
    "    print(\"option 1 chosen.\\n\")\n",
    "    print(\"option 1 chosen.\", end='\\n')\n",
    "    output = input('Enable voids (y/n)?')\n",
    "    voids_enable = True if output == 'y' else False\n",
    "    rand_n = 2 if voids_enable is False else 3\n",
    "    seed = rand_time()\n",
    "\n",
    "    lt_c4v_up.randomize(voids=voids_enable,\n",
    "                        probs=generate_random(rand_n),\n",
    "                        rand_seed=seed)\n",
    "    lt_c3v_up.randomize(voids=voids_enable,\n",
    "                        probs=generate_random(rand_n),\n",
    "                        rand_seed=seed)\n",
    "    lt_c6v_up.randomize(voids=voids_enable,\n",
    "                        probs=generate_random(rand_n),\n",
    "                        rand_seed=seed)\n",
    "    lt_c4v_dn.randomize(voids=voids_enable,\n",
    "                        probs=generate_random(rand_n),\n",
    "                        rand_seed=seed)\n",
    "    lt_c3v_dn.randomize(voids=voids_enable,\n",
    "                        probs=generate_random(rand_n),\n",
    "                        rand_seed=seed)\n",
    "    lt_c6v_dn.randomize(voids=voids_enable,\n",
    "                        probs=generate_random(rand_n),\n",
    "                        rand_seed=seed)"
   ]
  },
  {
   "cell_type": "markdown",
   "metadata": {},
   "source": [
    "# Display\n",
    "Calling <lattice_object>.display() will display the current spin arangement of the lattice_object."
   ]
  },
  {
   "cell_type": "code",
   "execution_count": null,
   "metadata": {},
   "outputs": [],
   "source": [
    "lt_c4v_up.plot()\n",
    "lt_c3v_up.plot()\n",
    "lt_c6v_up.plot()\n",
    "lt_c4v_dn.plot()\n",
    "lt_c3v_dn.plot()\n",
    "lt_c6v_dn.plot()"
   ]
  },
  {
   "cell_type": "markdown",
   "metadata": {},
   "source": [
    "# Metropolis Algorithm test\n",
    "Uncomment if you want to test these. The metropolis algorithm gets ran anyways in the next section."
   ]
  },
  {
   "cell_type": "code",
   "execution_count": null,
   "metadata": {},
   "outputs": [],
   "source": [
    "# Uncomment the next 4 lines below if you want, but not\n",
    "# really a reason to as the metropolis algorithm gets\n",
    "# called anyways from the get_spin_energy function.\n",
    "# lt_c4v_up.metropolis(total_time, BJ, progress=True,\n",
    "#                 save=False, auto_plot=True);"
   ]
  },
  {
   "cell_type": "code",
   "execution_count": null,
   "metadata": {},
   "outputs": [],
   "source": [
    "lt_c4v_up.WolffSpinEnergy(Beta, total_time, save=False,\n",
    "                            auto_plot=True);\n"
   ]
  },
  {
   "cell_type": "code",
   "execution_count": null,
   "metadata": {},
   "outputs": [],
   "source": [
    "lt_c3v_up.WolffSpinEnergy(Beta, total_time, save=False,\n",
    "                            auto_plot=True);"
   ]
  },
  {
   "cell_type": "code",
   "execution_count": null,
   "metadata": {},
   "outputs": [],
   "source": [
    "lt_c6v_up.WolffSpinEnergy(Beta, total_time, save=False,\n",
    "                            auto_plot=True);"
   ]
  },
  {
   "cell_type": "code",
   "execution_count": null,
   "metadata": {},
   "outputs": [],
   "source": [
    "lt_c4v_dn.WolffSpinEnergy(Beta, total_time, save=False,\n",
    "                            auto_plot=True);"
   ]
  },
  {
   "cell_type": "code",
   "execution_count": null,
   "metadata": {},
   "outputs": [],
   "source": [
    "lt_c3v_dn.WolffSpinEnergy(Beta, total_time, save=False,\n",
    "                            auto_plot=True);"
   ]
  },
  {
   "cell_type": "code",
   "execution_count": null,
   "metadata": {},
   "outputs": [],
   "source": [
    "lt_c6v_dn.WolffSpinEnergy(Beta, total_time, save=False,\n",
    "                            auto_plot=True);"
   ]
  }
 ],
 "metadata": {
  "interpreter": {
   "hash": "9287fc382e1131375b4ba7a223504bb29f5d55b0cb80fdbe48163d784c009e6d"
  },
  "kernelspec": {
   "display_name": "Python 3.10.0 64-bit ('PY10': conda)",
   "name": "python3"
  },
  "language_info": {
   "codemirror_mode": {
    "name": "ipython",
    "version": 3
   },
   "file_extension": ".py",
   "mimetype": "text/x-python",
   "name": "python",
   "nbconvert_exporter": "python",
   "pygments_lexer": "ipython3",
   "version": "3.10.0"
  },
  "orig_nbformat": 4
 },
 "nbformat": 4,
 "nbformat_minor": 2
}
