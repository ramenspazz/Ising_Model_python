{
 "cells": [
  {
   "cell_type": "markdown",
   "metadata": {},
   "source": [
    "# Markov Chain Monty Carlo Simulations\n",
    "Describe MCMC\n",
    "\n",
    "# The Detailed Balance Equation\n",
    "The detailed balance equation (DBE) is a condition used to converge a MCMC simulation to a distribution -- and in this case the thermodynamic Boltzmann distribution. The DBE is a statement that the transition probabilty from one state $\\xi$ to some new state $\\xi'$ has an equal probability, and can be stated as such:\n",
    "\n",
    "$$P(\\xi\\rightarrow\\xi') = P(\\xi'\\rightarrow\\xi)$$\n",
    "\n",
    "The Boltzmann distribution is a distribution that gives a probability that a system will be in a state given the macroenergy of that states collective microstates, and is given by:\n",
    "\n",
    "$$p(\\xi)\\propto e^{-E_i\\beta}$$\n",
    "\n",
    "Using this as a cost function of our systems energy and the DBE, we can write:\n",
    "\n",
    "$$p(\\xi) = p(\\xi')$$\n",
    "$$\\implies e^{-E_i\\beta} = e^{-E_f\\beta}$$\n",
    "\n",
    "Taking the ratio of this, we arrive at our cost function for a MCMC evolution to accept or reject a proposed change in the system:\n",
    "\n",
    "$$\\frac{p(\\xi)}{p(\\xi')} = e^{-\\beta(\\Delta E)}$$\n",
    "\n",
    "Therefore for a given choice of $\\beta J$, the only deciding factor for accepting or rejecting an evolution is the change in energy of the system from $\\xi$ to $\\xi'$. We can use the previously derived energy $-\\sum_{<i,j>} J_{<i,j>} \\sigma_i \\sigma_j$, which is the sum neighboring spins times the spin connecting all neighbors.\n",
    "\n",
    "Using this fact, we can compute the total energy of the system once, then only compute the sum of neighboring spins of a local microstate and multiply this by two times the sign of the proposed spin flip to get the change in energy from $\\xi$ to $\\xi'$. Using this fact and calling the resulting sum $\\Sigma_{nbr}$ and the flip of the initially chosen spin $S_f$, we get:\n",
    "\n",
    "$$\\implies \\frac{p(\\xi)}{p(\\xi')} = e^{-2S_f\\Sigma_{nbr}\\beta J}$$\n",
    "\n",
    "# The dyanmics of spin flips\n",
    "\n",
    "talk about why phonons only travel from the boundarys of spin configurations\n",
    "\n",
    "# The Metropolis Algorithm\n",
    "The Metropolis algorithm is a MCMC method that utlizes the cost function to flip a single randomly (or pseudo randomly) selected spin per itteration. The goal of the algorithm is to nudge the system from a state $\\Xi$ into a lower energy state $\\Theta$.\n",
    "\n",
    "The main drawback of this algorithm comes from its treatment of spin flips, and warrents a look into the dyanmics of an interacting spin model.\n",
    "\n",
    "The wavefunction that describes each individual spin in the lattice has no boundary on its effective influence range, however for simplicity we only consider nearest neighbors. The problem with this simplification is that near the critical transition point, single flip interactions based only on lowering the total energy of the system do not addequatly transmit spin-spin relaxation signals, as the next selected spin is not garunteed to be near the spin flipped in the current itteration.\n",
    "\n",
    "# The Wolff Algorithm\n",
    "talk about the treatment of long wavelength phonon transmition in the wolf model and how it overcomes the critical slowdown near the critical temperature\n",
    "talk about how the DBE can be changed to be $e^{-2\\beta J}$ due to the change in energy always being a factor of $\\pm 2$ due to only selecting clusters."
   ]
  },
  {
   "cell_type": "markdown",
   "metadata": {},
   "source": [
    "# Plotting relations\n",
    "We can look at $\\bar{m}$ as a function of the temperature by using the thermodynamic relationship of $\\beta = \\frac{1}{k_B T}$. Next, we can expand the partition function as so:\n",
    "\n",
    "$$ Z = \\sum_{<i,j>} e^{-\\beta E_i} $$\n",
    "$$ E = -\\sum_{<i,j>} J_{<i,j>} \\sigma_i \\sigma_j,\\quad \\sigma_i \\sigma_j \\in \\mathbb{Z}$$\n",
    "$$ \\implies Z = a e^{-\\beta J},\\quad a\\in\\mathbb{R} $$\n",
    "\n",
    "From this we can see that the available microstates depend on the $\\beta J$ value, and are scaled with the specific spin arrangemet, where $\\beta J$ is a dimensionless quantity useful for numerical computation.\n",
    "\n",
    "## The Heat Capacity and Energy of the system\n",
    "\n",
    "Using the partition function, we can also plot the heat capacity:\n",
    "\n",
    "$$\\langle E \\rangle = -\\frac{\\partial ln(Z)}{\\partial \\beta}$$\n",
    "\n",
    "$$\\langle E^2 \\rangle = \\frac{\\partial^2 ln(Z)}{\\partial \\beta^2}$$\n",
    "\n",
    "With these two values, we can numerically compute  the heat capacity as:\n",
    "\n",
    "finish derivation\n",
    "\n",
    "$$C_V = \\frac{\\sigma_E^2}{k_b T^2} $$\n",
    "\n",
    "From this result, we see that we only need to measure the energy at each evolution step in a MCMC simulation, take the numerical standard deviation, and record the temperature $T$ used in each itteration of the simulation to plot the Heat Capacity as a function of a given $\\beta J$.\n",
    "\n",
    "## Magnitization density\n",
    "\n",
    "Then, we use the above relations to first plot $\\bar{m}$ vs $\\beta J$ -- where $\\bar{m}$ is the average of sum spins per evolution."
   ]
  },
  {
   "cell_type": "code",
   "execution_count": 1,
   "metadata": {},
   "outputs": [
    {
     "name": "stdout",
     "output_type": "stream",
     "text": [
      "Linux System\n",
      "\n"
     ]
    }
   ],
   "source": [
    "\"\"\"\n",
    "This file is the entry point for the project\n",
    "\"\"\"\n",
    "# Begin by importing external libraries using path_setup\n",
    "# NOTE : Must be ran first, thus PEP8-E402\n",
    "import path_setup\n",
    "path_setup.path_setup()\n",
    "import math  # noqa E402\n",
    "import sys  # noqa E402\n",
    "import numpy as np # noqa E402\n",
    "import datetime as dt # noqa E402\n",
    "from LatticeDriver import LatticeDriver as lt  # noqs E402\n",
    "from LatticeDriver import T_to_Beta  # noqa E402\n",
    "import random as rnd  # noqa E402\n",
    "from SupportingFunctions import generate_random, rand_time, DividendRemainder\n",
    "# Shebang line for interactive output in vs_code, comment this out if you have troubles running the notebook\n",
    "import plotly.io as pio\n",
    "pio.renderers.default = \"notebook\"\n",
    "\n",
    "zeroC = 273.15"
   ]
  },
  {
   "cell_type": "markdown",
   "metadata": {},
   "source": [
    "# Setup Parameters\n",
    "This is the setup for the simulation.\n",
    "\n",
    "N, M\n",
    "> The span of the basis vectors\n",
    "\n",
    "$\\beta$ and $J$\n",
    "> `Beta` represents a range of values for the thermodynamic variable in the partition function, which si equal to $\\frac{1}{k_bT}$.\n",
    "\n",
    "> `J` represents the spin coupling value to use lattice wide. Later I want to provide a base value and have the distance between spin sites use a different J value. Useful for phonons that propogate and lattices that are not using C4V symmetry.\n",
    "\n",
    "Options 0 and 1\n",
    "> 0 for seeded random or 1 for time based\n",
    "Seeded random : 0\n",
    "> seeds random with 1644121893 by default to generate a repeatable test.\n",
    "\n",
    "```Probs``` is a list containing 2 -- or 3 integers if voids is enabled, from 0 to 100 such that they all add together to 100.\n",
    "Each entry in the ```Probs``` list represents the percent chance that random will assign a spin value of 1, -1, or\n",
    "0 if lattice voids are enabled. You can play with these for interesting results. \n",
    "Time based : 1\n",
    "> seeds radom with the current epoch time as an integer."
   ]
  },
  {
   "cell_type": "code",
   "execution_count": 2,
   "metadata": {},
   "outputs": [
    {
     "name": "stdout",
     "output_type": "stream",
     "text": [
      "a=42.48404950300416/eV, b=9.114808248631807/eV\n"
     ]
    }
   ],
   "source": [
    "N = 64\n",
    "M = 64\n",
    "size = [N, M]\n",
    "total_time = 1000\n",
    "J = 0.01  # eV, interation energy\n",
    "T1 = zeroC\n",
    "T2 = 1000+zeroC\n",
    "a = T_to_Beta(T1)\n",
    "b = T_to_Beta(T2)\n",
    "print(f'a={a}/eV, b={b}/eV')\n",
    "num_points = 100\n",
    "step = (T2-T1)/num_points\n",
    "Beta = np.zeros(num_points, dtype=np.float64)\n",
    "for i in range(num_points):\n",
    "    Beta[i] = T_to_Beta(i*step + T1)"
   ]
  },
  {
   "cell_type": "code",
   "execution_count": 3,
   "metadata": {},
   "outputs": [
    {
     "name": "stdout",
     "output_type": "stream",
     "text": [
      "Generation complete!                                                                                                              \n",
      "Generation complete!                                                                                                              \n",
      "Generation complete!                                                                                                              \n",
      "Generation complete!                                                                                                              \n",
      "Generation complete!                                                                                                              \n",
      "Generation complete!                                                                                                              \n"
     ]
    }
   ],
   "source": [
    "lt_c4v_up = lt(1, size, J)\n",
    "lt_c3v_up = lt(1, size, J, basis=[[1, 0], [0.5, np.sqrt(3)/2]])\n",
    "lt_c6v_up = lt(1, size, J, [[0.5, np.sqrt(3)/2], [0.5, -np.sqrt(3)/2]])\n",
    "\n",
    "lt_c4v_dn = lt(1, size, J)\n",
    "lt_c3v_dn = lt(1, size, J, [[1, 0], [0.5, np.sqrt(3)/2]])\n",
    "lt_c6v_dn = lt(1, size, J, [[0.5, np.sqrt(3)/2], [0.5, -np.sqrt(3)/2]])\n",
    "\n",
    "output = input('Enter 0 for seeded random or 1 for time based:')\n",
    "if output == '0':\n",
    "    print(\"option 0 chosen.\\n\")\n",
    "    # DOCtest seed = 1644121893\n",
    "    seed = 1644121893\n",
    "    lt_c4v_up.randomize(voids=True, probs=[20, 75, 5],\n",
    "                        rand_seed=seed)\n",
    "    lt_c3v_up.randomize(voids=False, probs=[25, 75],\n",
    "                        rand_seed=seed)\n",
    "    lt_c6v_up.randomize(voids=True, probs=[20, 75, 5],\n",
    "                        rand_seed=seed)\n",
    "    lt_c4v_dn.randomize(voids=True, probs=[75, 20, 5],\n",
    "                        rand_seed=seed)\n",
    "    lt_c3v_dn.randomize(voids=False, probs=[75, 25],\n",
    "                        rand_seed=seed)\n",
    "    lt_c6v_dn.randomize(voids=True, probs=[75, 20, 5],\n",
    "                        rand_seed=seed)\n",
    "else:\n",
    "    print(\"option 1 chosen.\\n\")\n",
    "    output = input('Enable voids (y/n)?')\n",
    "    voids_enable = True if output == 'y' else False\n",
    "    rand_n = 2 if voids_enable is False else 3\n",
    "    seed = rand_time()\n",
    "\n",
    "    lt_c4v_up.randomize(voids=voids_enable,\n",
    "                        probs=generate_random(rand_n),\n",
    "                        rand_seed=seed)\n",
    "    lt_c3v_up.randomize(voids=voids_enable,\n",
    "                        probs=generate_random(rand_n),\n",
    "                        rand_seed=seed)\n",
    "    lt_c6v_up.randomize(voids=voids_enable,\n",
    "                        probs=generate_random(rand_n),\n",
    "                        rand_seed=seed)\n",
    "    lt_c4v_dn.randomize(voids=voids_enable,\n",
    "                        probs=generate_random(rand_n),\n",
    "                        rand_seed=seed)\n",
    "    lt_c3v_dn.randomize(voids=voids_enable,\n",
    "                        probs=generate_random(rand_n),\n",
    "                        rand_seed=seed)\n",
    "    lt_c6v_dn.randomize(voids=voids_enable,\n",
    "                        probs=generate_random(rand_n),\n",
    "                        rand_seed=seed)"
   ]
  },
  {
   "cell_type": "markdown",
   "metadata": {},
   "source": [
    "# Display\n",
    "Calling <lattice_object>.plot() will display the current spin arangement of the lattice_object."
   ]
  },
  {
   "cell_type": "code",
   "execution_count": null,
   "metadata": {},
   "outputs": [],
   "source": [
    "lt_c4v_up.plot()\n",
    "lt_c3v_up.plot()\n",
    "lt_c6v_up.plot()\n",
    "lt_c4v_dn.plot()\n",
    "lt_c3v_dn.plot()\n",
    "lt_c6v_dn.plot()"
   ]
  },
  {
   "cell_type": "markdown",
   "metadata": {},
   "source": [
    "# Spin Energy and Magnitization\n",
    "The next function up is `SpinEnergy`, which can be passed the positional parameter `lt.WolffAlgorithm` or `lt.MetropolisAlgorithm` deppending on which evolution method you want to test for a given range of $\\beta$ values."
   ]
  },
  {
   "cell_type": "code",
   "execution_count": null,
   "metadata": {},
   "outputs": [],
   "source": [
    "lt_c4v_up.SpinEnergy(Beta, total_time, lt.WolffAlgorithm,\n",
    "                     save=False, auto_plot=True);"
   ]
  },
  {
   "cell_type": "code",
   "execution_count": null,
   "metadata": {},
   "outputs": [],
   "source": [
    "lt_c3v_up.SpinEnergy(Beta, total_time, lt.WolffAlgorithm,\n",
    "                     save=False, auto_plot=True);"
   ]
  },
  {
   "cell_type": "code",
   "execution_count": null,
   "metadata": {},
   "outputs": [],
   "source": [
    "lt_c6v_up.SpinEnergy(Beta, total_time, lt.WolffAlgorithm,\n",
    "                     save=False, auto_plot=True);"
   ]
  },
  {
   "cell_type": "code",
   "execution_count": null,
   "metadata": {},
   "outputs": [],
   "source": [
    "lt_c4v_dn.SpinEnergy(Beta, total_time, lt.WolffAlgorithm,\n",
    "                     save=False, auto_plot=True);"
   ]
  },
  {
   "cell_type": "code",
   "execution_count": null,
   "metadata": {},
   "outputs": [],
   "source": [
    "lt_c3v_dn.SpinEnergy(Beta, total_time, lt.WolffAlgorithm,\n",
    "                     save=False, auto_plot=True);"
   ]
  },
  {
   "cell_type": "code",
   "execution_count": null,
   "metadata": {},
   "outputs": [],
   "source": [
    "lt_c6v_dn.SpinEnergy(Beta, total_time, lt.WolffAlgorithm,\n",
    "                     save=False, auto_plot=True);"
   ]
  }
 ],
 "metadata": {
  "interpreter": {
   "hash": "9287fc382e1131375b4ba7a223504bb29f5d55b0cb80fdbe48163d784c009e6d"
  },
  "kernelspec": {
   "display_name": "Python 3.10.0 64-bit ('PY10': conda)",
   "name": "python3"
  },
  "language_info": {
   "codemirror_mode": {
    "name": "ipython",
    "version": 3
   },
   "file_extension": ".py",
   "mimetype": "text/x-python",
   "name": "python",
   "nbconvert_exporter": "python",
   "pygments_lexer": "ipython3",
   "version": "3.10.0"
  },
  "orig_nbformat": 4
 },
 "nbformat": 4,
 "nbformat_minor": 2
}
