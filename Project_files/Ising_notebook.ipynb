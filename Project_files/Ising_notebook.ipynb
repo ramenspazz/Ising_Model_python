{
 "cells": [
  {
   "cell_type": "code",
   "execution_count": null,
   "source": [
    "\"\"\"\n",
    "This file is the entry point for the project\n",
    "\"\"\"\n",
    "# Begin by importing external libraries using path_setup\n",
    "# NOTE : Must be ran first, thus PEP8-E402\n",
    "import path_setup\n",
    "path_setup.path_setup()\n",
    "import sys  # noqa E402\n",
    "import matplotlib.pyplot as plt # noqa E402\n",
    "import numpy as np # noqa E402\n",
    "import datetime as dt # noqa E402\n",
    "from LatticeClass_F import lattice_class as lt # noqa E402\n",
    "import PrintException as PE  # noqa E402\n",
    "import input_funcs as inF  # noqa E402\n",
    "from random import random  # noqa E402\n",
    "# Shebang line for interactive output in vs_code, comment this out if you have troubles running the notebook\\n\",\n",
    "# %matplotlib widget\n",
    "\n",
    "def rand_time() -> int:\n",
    "    out = int(dt.datetime.now().strftime('%s'))\n",
    "    sys.stdout.write(f\"Time Seed = {out}\\n\")\n",
    "    return(int(dt.datetime.now().strftime('%s')))"
   ],
   "outputs": [],
   "metadata": {}
  },
  {
   "cell_type": "code",
   "execution_count": null,
   "source": [
    "N = 15\n",
    "M = 15\n",
    "BJs = np.arange(0.1, 2, 0.05)\n",
    "total_time = 1000\n",
    "BJ = 0.1\n",
    "\n",
    "size = [N, M]\n",
    "lt_a = lt(1, size)\n",
    "lt_b = lt(1, size, [[1, 0], [0.5, np.sqrt(3)/2]])\n",
    "lt_c = lt(1, size, [[0.5, np.sqrt(3)/2], [0.5, -np.sqrt(3)/2]])\n",
    "lt_d = lt(1, size, [[0.128, np.e], [3.02398, -np.e]])\n",
    "\n",
    "# output = input('Enter 0 for seeded random or 1 for time based:')\n",
    "output = '0'\n",
    "if output == '0':\n",
    "    print(\"option 0 chosen..\\n\")\n",
    "    # DOCtest seed = 1644121893\n",
    "    seed = 1644121893\n",
    "    lt_a.randomize(voids=True , probs=[23, 50], rand_seed=seed, quiet=False)\n",
    "    lt_b.randomize(voids=False, probs=[23, 50], rand_seed=seed)\n",
    "    lt_c.randomize(voids=False, probs=[23, 50], rand_seed=seed)\n",
    "    lt_d.randomize(voids=False, probs=[23, 50], rand_seed=seed)\n",
    "\n",
    "else:\n",
    "    print(\"option 1 chosen.\\n\")\n",
    "    lt_a.randomize(voids=True , probs=[random(100), random(100)], rand_seed=rand_time(), quiet=False)\n",
    "    lt_b.randomize(voids=False, probs=[random(100), random(100)], rand_seed=rand_time(), quiet=False)\n",
    "    lt_c.randomize(voids=False, probs=[random(100), random(100)], rand_seed=rand_time(), quiet=False)\n",
    "    lt_d.randomize(voids=False, probs=[random(100), random(100)], rand_seed=rand_time(), quiet=False)\n"
   ],
   "outputs": [],
   "metadata": {}
  },
  {
   "cell_type": "code",
   "execution_count": null,
   "source": [
    "lt_a.display()\n",
    "lt_b.display()\n",
    "lt_c.display()\n",
    "lt_d.display()"
   ],
   "outputs": [],
   "metadata": {}
  },
  {
   "cell_type": "markdown",
   "source": [
    "# Metropolis Algorithm test\n",
    "Uncomment if you want to test these. The metropolis algorithm gets ran anyways in the next section."
   ],
   "metadata": {}
  },
  {
   "cell_type": "code",
   "execution_count": null,
   "source": [
    "# total_time = 1000\n",
    "# BJ = 1\n",
    "# SE_mtx = lt_a.metropolis(total_time, BJ, quiet=False)\n",
    "# plot_metrop(SE_mtx, BJ, size)\n",
    "# SE_mtx = lt_b.metropolis(total_time, BJ)\n",
    "# plot_metrop(SE_mtx, BJ, size)\n",
    "# SE_mtx = lt_c.metropolis(total_time, BJ)\n",
    "# plot_metrop(SE_mtx, BJ, size)\n",
    "# SE_mtx = lt_d.metropolis(total_time, BJ)\n",
    "# plot_metrop(SE_mtx, BJ, size)"
   ],
   "outputs": [],
   "metadata": {}
  },
  {
   "cell_type": "code",
   "execution_count": null,
   "source": [
    "a, b, c = lt_a.get_spin_energy(BJs, total_time)"
   ],
   "outputs": [],
   "metadata": {}
  },
  {
   "cell_type": "code",
   "execution_count": null,
   "source": [
    "a, b, c = lt_b.get_spin_energy(BJs, total_time)\n"
   ],
   "outputs": [],
   "metadata": {}
  },
  {
   "cell_type": "code",
   "execution_count": null,
   "source": [
    "a, b, c = lt_c.get_spin_energy(BJs, total_time)"
   ],
   "outputs": [],
   "metadata": {}
  },
  {
   "cell_type": "code",
   "execution_count": null,
   "source": [
    "a, b, c = lt_d.get_spin_energy(BJs, total_time)"
   ],
   "outputs": [],
   "metadata": {}
  }
 ],
 "metadata": {
  "interpreter": {
   "hash": "006bb281abe5d155fd536569db0964683df06bf2255658d6e1689c3b88123df7"
  },
  "kernelspec": {
   "display_name": "Python 3.10.0 ('PY10_test')",
   "language": "python",
   "name": "python3"
  },
  "language_info": {
   "codemirror_mode": {
    "name": "ipython",
    "version": 3
   },
   "file_extension": ".py",
   "mimetype": "text/x-python",
   "name": "python",
   "nbconvert_exporter": "python",
   "pygments_lexer": "ipython3",
   "version": "3.10.0"
  },
  "orig_nbformat": 4
 },
 "nbformat": 4,
 "nbformat_minor": 2
}