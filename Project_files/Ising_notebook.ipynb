{
 "cells": [
  {
   "cell_type": "code",
   "execution_count": null,
   "metadata": {},
   "outputs": [],
   "source": [
    "\"\"\"\n",
    "This file is the entry point for the project\n",
    "\"\"\"\n",
    "# Begin by importing external libraries using path_setup\n",
    "# NOTE : Must be ran first, thus PEP8-E402\n",
    "import path_setup\n",
    "path_setup.path_setup()\n",
    "import math  # noqa E402\n",
    "import sys  # noqa E402\n",
    "import numpy as np # noqa E402\n",
    "import datetime as dt # noqa E402\n",
    "from LatticeClass_F import lattice_class as lt # noqa E402\n",
    "from random import random  # noqa E402\n",
    "import random as rnd  # noqa E402\n",
    "# Shebang line for interactive output in vs_code, comment this out if you have troubles running the notebook\n",
    "%matplotlib inline\n",
    "\n",
    "def rand_time() -> int:\n",
    "    out = int(dt.datetime.now().strftime('%s'))\n",
    "    sys.stdout.write(f\"Time Seed = {out}\\n\")\n",
    "    return(int(dt.datetime.now().strftime('%s')))\n",
    "\n",
    "def generate_random(gen_num: int) -> list:\n",
    "    \"\"\"\n",
    "        Generates 2 or 3 random numbers whos sum is 100\n",
    "    \"\"\"\n",
    "    if gen_num == 2:\n",
    "        rand_a = rnd.randint(0, 100)\n",
    "        rand_b = 100 - rand_a\n",
    "        return([rand_a, rand_b])\n",
    "    elif gen_num == 3:\n",
    "        rand_a = rnd.randint(0, 98)\n",
    "        if rand_a == 0:\n",
    "            rand_b = rnd.randint(0, 99)\n",
    "        else:\n",
    "            rand_b = rnd.randint(0, 100-rand_a-1)\n",
    "        rand_c = 100 - rand_a - rand_b\n",
    "        return([rand_a, rand_b, rand_c])"
   ]
  },
  {
   "cell_type": "markdown",
   "metadata": {},
   "source": [
    "# Setup\n",
    "This is the setup for the simulation.\n",
    "\n",
    "# Parameters\n",
    "## N, M\n",
    "> The span of the basis vectors\n",
    "\n",
    "## $\\beta J$'s\n",
    "> The temperature\n",
    "\n",
    "# Options 0 and 1\n",
    "> 0 for seeded random or 1 for time based\n",
    "## Seeded random : 0\n",
    "> seeds random with 1644121893 by default to generate a repeatable test.\n",
    "\n",
    "```Probs``` is a list containing 2 -- or 3 integers if voids is enabled, from 0 to 100 such that they all add together to 100.\n",
    "Each entry in the ```Probs``` list represents the percent chance that random will assign a spin value of 1, -1, or\n",
    "0 if lattice voids are enabled. You can play with these for interesting results. \n",
    "## Time based : 1\n",
    "> seeds radom with the current epoch time as an integer.\n",
    "\n",
    "# TODO\n",
    "It shouldnt be hard to include external magnetic field interactions.\n",
    "\n",
    "I want to make the $\\beta J$ value distance dependant, but need to do more research to impliment this right now."
   ]
  },
  {
   "cell_type": "code",
   "execution_count": null,
   "metadata": {},
   "outputs": [],
   "source": [
    "# 32x32 runs in about 40-70 seconds depending on your system.\n",
    "N = 48\n",
    "M = 48\n",
    "size = [N, M]\n",
    "a = 0.1\n",
    "b = 10\n",
    "# The num_ponts settings increases computation time \n",
    "# dramatically, turn this down if you are just looking\n",
    "# for good parameters to test. Turn up on a full data run.\n",
    "# I suggest num_points < 100 for tests, and >= 1000 for full \n",
    "# data runs.\n",
    "num_points = 100\n",
    "step = (b-a)/num_points\n",
    "BJs = np.arange(a, b, step)\n",
    "total_time = math.trunc(np.sqrt(N*M))\n",
    "BJ = 0.1\n",
    "\n",
    "lt_c4v_up = lt(1, size)\n",
    "lt_c3v_up = lt(1, size, [[1, 0], [0.5, np.sqrt(3)/2]])\n",
    "lt_c6v_up = lt(1, size, [[0.5, np.sqrt(3)/2], [0.5, -np.sqrt(3)/2]])\n",
    "\n",
    "lt_c4v_dn = lt(1, size)\n",
    "lt_c3v_dn = lt(1, size, [[1, 0], [0.5, np.sqrt(3)/2]])\n",
    "lt_c6v_dn = lt(1, size, [[0.5, np.sqrt(3)/2], [0.5, -np.sqrt(3)/2]])\n",
    "\n",
    "output = input('Enter 0 for seeded random or 1 for time based:')\n",
    "if output == '0':\n",
    "    print(\"option 0 chosen..\\n\")\n",
    "    # DOCtest seed = 1644121893\n",
    "    seed = 1644121893\n",
    "    lt_c4v_up.randomize(voids=True, probs=[15, 80, 5],\n",
    "                        rand_seed=seed)\n",
    "    lt_c3v_up.randomize(voids=True, probs=[15, 80, 5],\n",
    "                        rand_seed=seed)\n",
    "    lt_c6v_up.randomize(voids=True, probs=[15, 80, 5],\n",
    "                        rand_seed=seed)\n",
    "    lt_c4v_dn.randomize(voids=True, probs=[80, 15, 5],\n",
    "                        rand_seed=seed)\n",
    "    lt_c3v_dn.randomize(voids=True, probs=[80, 15, 5],\n",
    "                        rand_seed=seed)\n",
    "    lt_c6v_dn.randomize(voids=True, probs=[80, 15, 5],\n",
    "                        rand_seed=seed)\n",
    "else:\n",
    "    print(\"option 1 chosen.\\n\")\n",
    "    print(\"option 1 chosen.\", end='\\n')\n",
    "    output = input('Enable voids (y/n)?')\n",
    "    voids_enable = True if output == 'y' else False\n",
    "    rand_n = 2 if voids_enable is False else 3\n",
    "    seed = rand_time()\n",
    "\n",
    "    lt_c4v_up.randomize(voids=voids_enable,\n",
    "                        probs=generate_random(rand_n),\n",
    "                        rand_seed=seed)\n",
    "    lt_c3v_up.randomize(voids=voids_enable,\n",
    "                        probs=generate_random(rand_n),\n",
    "                        rand_seed=seed)\n",
    "    lt_c6v_up.randomize(voids=voids_enable,\n",
    "                        probs=generate_random(rand_n),\n",
    "                        rand_seed=seed)\n",
    "    lt_c4v_dn.randomize(voids=voids_enable,\n",
    "                        probs=generate_random(rand_n),\n",
    "                        rand_seed=seed)\n",
    "    lt_c3v_dn.randomize(voids=voids_enable,\n",
    "                        probs=generate_random(rand_n),\n",
    "                        rand_seed=seed)\n",
    "    lt_c6v_dn.randomize(voids=voids_enable,\n",
    "                        probs=generate_random(rand_n),\n",
    "                        rand_seed=seed)"
   ]
  },
  {
   "cell_type": "markdown",
   "metadata": {},
   "source": [
    "# Display\n",
    "Calling <lattice_object>.display() will display the current spin arangement of the lattice_object."
   ]
  },
  {
   "cell_type": "code",
   "execution_count": null,
   "metadata": {},
   "outputs": [],
   "source": [
    "lt_c4v_up.display()\n",
    "lt_c3v_up.display()\n",
    "lt_c6v_up.display()\n",
    "lt_c4v_dn.display()\n",
    "lt_c3v_dn.display()\n",
    "lt_c6v_dn.display()"
   ]
  },
  {
   "cell_type": "markdown",
   "metadata": {},
   "source": [
    "# Metropolis Algorithm test\n",
    "Uncomment if you want to test these. The metropolis algorithm gets ran anyways in the next section."
   ]
  },
  {
   "cell_type": "code",
   "execution_count": null,
   "metadata": {},
   "outputs": [],
   "source": [
    "# Uncomment the next 4 lines below if you want, but not\n",
    "# really a reason to as the metropolis algorithm gets\n",
    "# called anyways from the get_spin_energy function.\n",
    "# lt_a.metropolis(total_time, BJ, progress=True,\n",
    "#                 save=False, auto_plot=True);\n",
    "# lt_b.metropolis(total_time, BJ, progress=True,\n",
    "#                 save=False, auto_plot=True);\n",
    "# lt_c.metropolis(total_time, BJ, progress=True,\n",
    "#                 save=False, auto_plot=True);"
   ]
  },
  {
   "cell_type": "markdown",
   "metadata": {},
   "source": [
    "# Plotting Energy-Temperature relations\n",
    "Can look at $\\bar{m}$ as a function of temperature:\n",
    "$$ T = 1/\\beta k = J/(\\beta J)k $$\n",
    "\n",
    "We can also plot heat capacity as a function of time, using:\n",
    "\n",
    "$$C_V = \\sigma_E^2 / T^2 $$\n",
    "\n",
    "$$= (\\left<E^2\\right>-\\left<E\\right>^2) \\cdot \\beta^{2} k^2$$\n",
    "\n",
    "$$= \\left(\\left<\\left(\\frac{E}{J}\\right)^2\\right>-\\left<\\frac{E}{J}\\right>^2 \\right) \\cdot (\\beta J)^{2} k^2 $$\n",
    "\n",
    "$$= \\sigma_{E/J}^2 \\cdot (\\beta J)^{2} k^2$$\n",
    "\n",
    "## Whats going on\n",
    "The get_spin_genery function runs the Metropolis algorithm and finds a viable equlibrium temperature for a given $\\beta J$ value, plotting 38\n",
    " runs of the metropolis algorithm chained together.\n",
    "\n",
    "Then, we use the above relations to first plot $\\hat{m}$ vs $\\left(\\frac{k}{J}\\right)T$ -- where $\\hat{m}$ the Sum of Spins over the number of spins.\n",
    "\n",
    "Again using the above relations we can also plot $C_V / k^2$ vs $\\left(\\frac{k}{J}\\right)T$.\n"
   ]
  },
  {
   "cell_type": "code",
   "execution_count": null,
   "metadata": {},
   "outputs": [],
   "source": [
    "lt_c4v_up.get_spin_energy(BJs, total_time, save=False,\n",
    "                          auto_plot=True);"
   ]
  },
  {
   "cell_type": "code",
   "execution_count": null,
   "metadata": {},
   "outputs": [],
   "source": [
    "lt_c3v_up.get_spin_energy(BJs, total_time, save=False,\n",
    "                          auto_plot=True);"
   ]
  },
  {
   "cell_type": "code",
   "execution_count": null,
   "metadata": {},
   "outputs": [],
   "source": [
    "lt_c6v_up.get_spin_energy(BJs, total_time, save=False,\n",
    "                          auto_plot=True);"
   ]
  },
  {
   "cell_type": "code",
   "execution_count": null,
   "metadata": {},
   "outputs": [],
   "source": [
    "lt_c4v_dn.get_spin_energy(BJs, total_time, save=False,\n",
    "                          auto_plot=True);"
   ]
  },
  {
   "cell_type": "code",
   "execution_count": null,
   "metadata": {},
   "outputs": [],
   "source": [
    "lt_c3v_dn.get_spin_energy(BJs, total_time, save=False,\n",
    "                          auto_plot=True);"
   ]
  },
  {
   "cell_type": "code",
   "execution_count": null,
   "metadata": {},
   "outputs": [],
   "source": [
    "lt_c6v_dn.get_spin_energy(BJs, total_time, save=False,\n",
    "                          auto_plot=True);"
   ]
  }
 ],
 "metadata": {
  "interpreter": {
   "hash": "9287fc382e1131375b4ba7a223504bb29f5d55b0cb80fdbe48163d784c009e6d"
  },
  "kernelspec": {
   "display_name": "Python 3.10.0 64-bit ('PY10': conda)",
   "name": "python3"
  },
  "language_info": {
   "codemirror_mode": {
    "name": "ipython",
    "version": 3
   },
   "file_extension": ".py",
   "mimetype": "text/x-python",
   "name": "python",
   "nbconvert_exporter": "python",
   "pygments_lexer": "ipython3",
   "version": "3.10.0"
  },
  "orig_nbformat": 4
 },
 "nbformat": 4,
 "nbformat_minor": 2
}
