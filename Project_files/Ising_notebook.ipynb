{
 "cells": [
  {
   "cell_type": "code",
   "execution_count": null,
   "metadata": {},
   "outputs": [],
   "source": [
    "\"\"\"\n",
    "This file is the entry point for the project\n",
    "\"\"\"\n",
    "# Begin by importing external libraries using path_setup\n",
    "# NOTE : Must be ran first, thus PEP8-E402\n",
    "import path_setup\n",
    "path_setup.path_setup()\n",
    "import sys  # noqa E402\n",
    "import matplotlib.pyplot as plt # noqa E402\n",
    "import numpy as np # noqa E402\n",
    "import datetime as dt # noqa E402\n",
    "from LatticeClass_F import lattice_class as lt # noqa E402\n",
    "import PrintException as PE  # noqa E402\n",
    "import input_funcs as inF  # noqa E402\n",
    "from random import random  # noqa E402\n",
    "import time\n",
    "# Shebang line for interactive output in vs_code, comment this out if you have troubles running the notebook\\n\",\n",
    "# %matplotlib widget\n",
    "\n",
    "def rand_time() -> int:\n",
    "    out = int(dt.datetime.now().strftime('%s'))\n",
    "    sys.stdout.write(f\"Time Seed = {out}\\n\")\n",
    "    return(int(dt.datetime.now().strftime('%s')))"
   ]
  },
  {
   "cell_type": "markdown",
   "metadata": {},
   "source": [
    "# Setup\n",
    "This is the setup for the simulation.\n",
    "\n",
    "# Parameters\n",
    "## N, M\n",
    "> The span of the basis vectors\n",
    "\n",
    "## $\\beta J$'s\n",
    "> The temperature\n",
    "\n",
    "# Options 0 and 1\n",
    "0 for seeded random or 1 for time based\n",
    "## Seeded random : 0\n",
    "> seeds random with 1644121893 by default to generate a repeatable test.\n",
    "## Time based : 1\n",
    "> seeds radom with the current epoch time as an integer.\n",
    "\n",
    "# TODO\n",
    "It shouldnt be hard to include external magnetic field interactions"
   ]
  },
  {
   "cell_type": "code",
   "execution_count": null,
   "metadata": {},
   "outputs": [],
   "source": [
    "# 32x32 runs in about 40-70 seconds depending on your system.\n",
    "N = 48\n",
    "M = 48\n",
    "BJs = np.arange(0.1, 2, 0.05)\n",
    "total_time = 1000\n",
    "BJ = 0.1\n",
    "\n",
    "size = [N, M]\n",
    "lt_a = lt(1, size)\n",
    "lt_b = lt(1, size, [[1, 0], [0.5, np.sqrt(3)/2]])\n",
    "lt_c = lt(1, size, [[0.5, np.sqrt(3)/2], [0.5, -np.sqrt(3)/2]])\n",
    "\n",
    "output = input('Enter 0 for seeded random or 1 for time based:')\n",
    "if output == '0':\n",
    "    print(\"option 0 chosen..\\n\")\n",
    "    # DOCtest seed = 1644121893\n",
    "    seed = 1644121893\n",
    "    lt_a.randomize(voids=True, probs=[45, 45, 10],\n",
    "                    rand_seed=seed, quiet=False)\n",
    "    lt_b.randomize(voids=True, probs=[55, 40, 5],\n",
    "                    rand_seed=seed, quiet=False)\n",
    "    lt_c.randomize(voids=True, probs=[30, 65, 5],\n",
    "                    rand_seed=seed, quiet=False)\n",
    "else:\n",
    "    print(\"option 1 chosen.\\n\")\n",
    "\n",
    "    lt_a.randomize(voids=True, probs=[\n",
    "        random(), random()],\n",
    "        rand_seed=rand_time(), quiet=False)\n",
    "\n",
    "    lt_b.randomize(voids=False, probs=[\n",
    "            random(), random()],\n",
    "            rand_seed=rand_time(), quiet=False)\n",
    "\n",
    "    lt_c.randomize(voids=False, probs=[\n",
    "            random(), random()],\n",
    "            rand_seed=rand_time(), quiet=False)"
   ]
  },
  {
   "cell_type": "markdown",
   "metadata": {},
   "source": [
    "# Display\n",
    "Calling <lattice_object>.display() will display the current spin arangement of the lattice_object."
   ]
  },
  {
   "cell_type": "code",
   "execution_count": null,
   "metadata": {},
   "outputs": [],
   "source": [
    "lt_a.display()\n",
    "lt_b.display()\n",
    "lt_c.display()"
   ]
  },
  {
   "cell_type": "markdown",
   "metadata": {},
   "source": [
    "# Metropolis Algorithm test\n",
    "Uncomment if you want to test these. The metropolis algorithm gets ran anyways in the next section."
   ]
  },
  {
   "cell_type": "code",
   "execution_count": null,
   "metadata": {},
   "outputs": [],
   "source": [
    "# Uncomment the next 4 lines below if you want, but not\n",
    "# really a reason to as the metropolis algorithm gets\n",
    "# called anyways from the get_spin_energy function.\n",
    "lt_a.metropolis(total_time, BJ, progress=True,\n",
    "                save=False, auto_plot=True);\n",
    "lt_b.metropolis(total_time, BJ, progress=True,\n",
    "                save=False, auto_plot=True);\n",
    "lt_c.metropolis(total_time, BJ, progress=True,\n",
    "                save=False, auto_plot=True);"
   ]
  },
  {
   "cell_type": "markdown",
   "metadata": {},
   "source": [
    "# Plotting Energy-Temperature relations\n",
    "Can look at $\\bar{m}$ as a function of temperature:\n",
    "$$ T = 1/\\beta k = J/(\\beta J)k $$\n",
    "\n",
    "We can also plot heat capacity as a function of time, using:\n",
    "\n",
    "$$C_V = \\sigma_E^2 / T^2 $$\n",
    "\n",
    "$$= (\\left<E^2\\right>-\\left<E\\right>^2) \\cdot \\beta^{2} k^2$$\n",
    "\n",
    "$$= \\left(\\left<\\left(\\frac{E}{J}\\right)^2\\right>-\\left<\\frac{E}{J}\\right>^2 \\right) \\cdot (\\beta J)^{2} k^2 $$\n",
    "\n",
    "$$= \\sigma_{E/J}^2 \\cdot (\\beta J)^{2} k^2$$\n",
    "\n",
    "## Whats going on\n",
    "The get_spin_genery function runs the Metropolis algorithm and finds a viable equlibrium temperature for a given $\\beta J$ value, plotting 38\n",
    " runs of the metropolis algorithm chained together.\n",
    "\n",
    "Then, we use the above relations to first plot $\\hat{m}$ vs $\\left(\\frac{k}{J}\\right)T$ -- where $\\hat{m}$ the Sum of Spins over the number of spins.\n",
    "\n",
    "Again using the above relations we can also plot $C_V / k^2$ vs $\\left(\\frac{k}{J}\\right)T$.\n"
   ]
  },
  {
   "cell_type": "code",
   "execution_count": null,
   "metadata": {},
   "outputs": [],
   "source": [
    "a, b, c = lt_a.get_spin_energy(BJs, total_time, save=False,\n",
    "                               auto_plot=True)"
   ]
  },
  {
   "cell_type": "code",
   "execution_count": null,
   "metadata": {},
   "outputs": [],
   "source": [
    "a, b, c = lt_b.get_spin_energy(BJs, total_time, save=False,\n",
    "                               auto_plot=True)"
   ]
  },
  {
   "cell_type": "code",
   "execution_count": null,
   "metadata": {},
   "outputs": [],
   "source": [
    "a, b, c = lt_c.get_spin_energy(BJs, total_time, save=False,\n",
    "                               auto_plot=True)"
   ]
  }
 ],
 "metadata": {
  "interpreter": {
   "hash": "9287fc382e1131375b4ba7a223504bb29f5d55b0cb80fdbe48163d784c009e6d"
  },
  "kernelspec": {
   "display_name": "Python 3.10.0 64-bit ('PY10': conda)",
   "name": "python3"
  },
  "language_info": {
   "codemirror_mode": {
    "name": "ipython",
    "version": 3
   },
   "file_extension": ".py",
   "mimetype": "text/x-python",
   "name": "python",
   "nbconvert_exporter": "python",
   "pygments_lexer": "ipython3",
   "version": "3.10.0"
  },
  "orig_nbformat": 4
 },
 "nbformat": 4,
 "nbformat_minor": 2
}
