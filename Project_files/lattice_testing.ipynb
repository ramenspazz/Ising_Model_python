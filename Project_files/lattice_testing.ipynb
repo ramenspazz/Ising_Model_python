{
 "cells": [
  {
   "cell_type": "code",
   "execution_count": 1,
   "metadata": {},
   "outputs": [
    {
     "name": "stdout",
     "output_type": "stream",
     "text": [
      "Linux System\n",
      "\n"
     ]
    }
   ],
   "source": [
    "\"\"\"\n",
    "This file is the entry point for the project\n",
    "\"\"\"\n",
    "# Begin by importing external libraries using path_setup\n",
    "# NOTE : Must be ran first, thus PEP8-E402\n",
    "import path_setup\n",
    "path_setup.path_setup()\n",
    "import math  # noqa E402\n",
    "import sys  # noqa E402\n",
    "import numpy as np # noqa E402\n",
    "import datetime as dt # noqa E402\n",
    "from LatticeDriver import LatticeDriver as lt  # noqs E402\n",
    "from random import random  # noqa E402\n",
    "import random as rnd  # noqa E402\n",
    "# Shebang line for interactive output in vs_code, comment this out if you have troubles running the notebook\n",
    "import plotly.io as pio\n",
    "pio.renderers.default = \"notebook\"\n",
    "\n",
    "def rand_time() -> int:\n",
    "    out = int(dt.datetime.now().strftime('%s'))\n",
    "    sys.stdout.write(f\"Time Seed = {out}\\n\")\n",
    "    return(int(dt.datetime.now().strftime('%s')))\n",
    "\n",
    "def generate_random(gen_num: int) -> list:\n",
    "    \"\"\"\n",
    "        Generates 2 or 3 random numbers whos sum is 100\n",
    "    \"\"\"\n",
    "    if gen_num == 2:\n",
    "        rand_a = rnd.randint(0, 100)\n",
    "        rand_b = 100 - rand_a\n",
    "        return([rand_a, rand_b])\n",
    "    elif gen_num == 3:\n",
    "        rand_a = rnd.randint(0, 98)\n",
    "        if rand_a == 0:\n",
    "            rand_b = rnd.randint(0, 99)\n",
    "        else:\n",
    "            rand_b = rnd.randint(0, 100-rand_a-1)\n",
    "        rand_c = 100 - rand_a - rand_b\n",
    "        return([rand_a, rand_b, rand_c])"
   ]
  },
  {
   "cell_type": "code",
   "execution_count": 2,
   "metadata": {},
   "outputs": [
    {
     "name": "stdout",
     "output_type": "stream",
     "text": [
      "10000\n"
     ]
    }
   ],
   "source": [
    "# 32x32 runs in about 40-70 seconds depending on your system.\n",
    "seed = 1644121893\n",
    "N = 128\n",
    "M = 128\n",
    "size = [N, M]\n",
    "a = 10\n",
    "b = 0.1\n",
    "\n",
    "num_points = 25\n",
    "step = (b-a)/num_points\n",
    "# BJs = np.union1d(np.arange(a, b, step), np.arange(-b, -a, step))\n",
    "BJs = np.arange(a, b, step)\n",
    "\n",
    "total_time = 10000\n",
    "print(total_time)\n",
    "BJ = 0.1\n",
    "\n",
    "lt_c4v_up = lt(1, size)\n",
    "lt_c4v_up.randomize(voids=False, probs=[20, 80],\n",
    "                    rand_seed=seed)\n",
    "lt_c4v_dn = lt(1, size)\n",
    "lt_c4v_dn.randomize(voids=False, probs=[80, 20],\n",
    "                    rand_seed=seed)\n",
    "# lt_c4v_up.randomize(voids=voids_enable,\n",
    "#                         probs=generate_random(rand_n),\n",
    "#                         rand_seed=seed)\n",
    "# lt_c3v_up = lt(1, size, [[1, 0], [0.5, np.sqrt(3)/2]])\n",
    "# lt_c6v_up = lt(1, size, [[0.5, np.sqrt(3)/2], [0.5, -np.sqrt(3)/2]])\n",
    "\n",
    "# lt_c4v_dn = lt(1, size)\n",
    "# lt_c3v_dn = lt(1, size, [[1, 0], [0.5, np.sqrt(3)/2]])\n",
    "# lt_c6v_dn = lt(1, size, [[0.5, np.sqrt(3)/2], [0.5, -np.sqrt(3)/2]])"
   ]
  },
  {
   "cell_type": "code",
   "execution_count": null,
   "metadata": {},
   "outputs": [],
   "source": [
    "lt_c4v_up.plot()\n",
    "lt_c4v_dn.plot()"
   ]
  },
  {
   "cell_type": "code",
   "execution_count": null,
   "metadata": {},
   "outputs": [],
   "source": [
    "# Uncomment the next 4 lines below if you want, but not\n",
    "# really a reason to as the metropolis algorithm gets\n",
    "# called anyways from the get_spin_energy function.\n",
    "lt_c4v_up.metropolis(total_time, BJ, progress=True,\n",
    "                save=False, auto_plot=True);\n",
    "lt_c4v_dn.metropolis(total_time, BJ, progress=True,\n",
    "                save=False, auto_plot=True);"
   ]
  },
  {
   "cell_type": "code",
   "execution_count": null,
   "metadata": {},
   "outputs": [],
   "source": [
    "# lt_c4v_up.get_spin_energy(BJs, total_time, save=False,\n",
    "#                           auto_plot=True);"
   ]
  }
 ],
 "metadata": {
  "interpreter": {
   "hash": "9287fc382e1131375b4ba7a223504bb29f5d55b0cb80fdbe48163d784c009e6d"
  },
  "kernelspec": {
   "display_name": "Python 3.10.0 64-bit ('PY10': conda)",
   "name": "python3"
  },
  "language_info": {
   "codemirror_mode": {
    "name": "ipython",
    "version": 3
   },
   "file_extension": ".py",
   "mimetype": "text/x-python",
   "name": "python",
   "nbconvert_exporter": "python",
   "pygments_lexer": "ipython3",
   "version": "3.10.0"
  },
  "orig_nbformat": 4
 },
 "nbformat": 4,
 "nbformat_minor": 2
}
